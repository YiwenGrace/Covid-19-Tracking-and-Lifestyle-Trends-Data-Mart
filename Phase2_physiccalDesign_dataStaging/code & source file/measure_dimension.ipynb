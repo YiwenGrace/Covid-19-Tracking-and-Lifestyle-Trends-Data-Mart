{
 "cells": [
  {
   "cell_type": "code",
   "execution_count": 1,
   "outputs": [],
   "source": [
    "import pandas as pd\n",
    "import numpy as np\n",
    "\n",
    "from datetime import datetime, timedelta"
   ],
   "metadata": {
    "collapsed": false,
    "pycharm": {
     "name": "#%%\n"
    }
   }
  },
  {
   "cell_type": "code",
   "execution_count": 2,
   "outputs": [],
   "source": [
    "measure = pd.read_csv(\"measure.csv\")"
   ],
   "metadata": {
    "collapsed": false,
    "pycharm": {
     "name": "#%%\n"
    }
   }
  },
  {
   "cell_type": "code",
   "execution_count": 3,
   "outputs": [
    {
     "data": {
      "text/plain": "     Title     City  Start date    End date  Private indoor gathering limit  \\\n0  Stage 3   Ottawa  2020-07-17  2020-10-09                              50   \n1  Stage 3     York  2020-07-24  2020-10-18                              50   \n2  Stage 3     Peel  2020-07-31  2020-10-09                              50   \n3  Stage 3  Toronto  2020-07-31  2020-10-09                              50   \n4  Stage 3   Durham  2020-07-24  2020-11-06                              50   \n\n   Private outdoor gathering limit  Public indoor gathering limit  \\\n0                              100                             50   \n1                              100                             50   \n2                              100                             50   \n3                              100                             50   \n4                              100                             50   \n\n   Public outdoor gathering limit  \\\n0                             100   \n1                             100   \n2                             100   \n3                             100   \n4                             100   \n\n  Indoor religious services rites or ceremonies limit  \\\n0                                                 50    \n1                                                 50    \n2                                                 50    \n3                                                 50    \n4                                                 50    \n\n   Outdoor religious services rites or ceremonies limit mask requird  \\\n0                                                100             Yes   \n1                                                100             Yes   \n2                                                100             Yes   \n3                                                100             Yes   \n4                                                100             Yes   \n\n  Self-isolating Essential service Entertainment service School/work  \\\n0        14 days              Open        Has constraint      Online   \n1        14 days              Open        Has constraint      Online   \n2        14 days              Open        Has constraint      Online   \n3        14 days              Open        Has constraint      Online   \n4        14 days              Open        Has constraint      Online   \n\n  Restaurant patrons seated indoors  \n0                               NaN  \n1                               NaN  \n2                               NaN  \n3                               NaN  \n4                               NaN  ",
      "text/html": "<div>\n<style scoped>\n    .dataframe tbody tr th:only-of-type {\n        vertical-align: middle;\n    }\n\n    .dataframe tbody tr th {\n        vertical-align: top;\n    }\n\n    .dataframe thead th {\n        text-align: right;\n    }\n</style>\n<table border=\"1\" class=\"dataframe\">\n  <thead>\n    <tr style=\"text-align: right;\">\n      <th></th>\n      <th>Title</th>\n      <th>City</th>\n      <th>Start date</th>\n      <th>End date</th>\n      <th>Private indoor gathering limit</th>\n      <th>Private outdoor gathering limit</th>\n      <th>Public indoor gathering limit</th>\n      <th>Public outdoor gathering limit</th>\n      <th>Indoor religious services rites or ceremonies limit</th>\n      <th>Outdoor religious services rites or ceremonies limit</th>\n      <th>mask requird</th>\n      <th>Self-isolating</th>\n      <th>Essential service</th>\n      <th>Entertainment service</th>\n      <th>School/work</th>\n      <th>Restaurant patrons seated indoors</th>\n    </tr>\n  </thead>\n  <tbody>\n    <tr>\n      <th>0</th>\n      <td>Stage 3</td>\n      <td>Ottawa</td>\n      <td>2020-07-17</td>\n      <td>2020-10-09</td>\n      <td>50</td>\n      <td>100</td>\n      <td>50</td>\n      <td>100</td>\n      <td>50</td>\n      <td>100</td>\n      <td>Yes</td>\n      <td>14 days</td>\n      <td>Open</td>\n      <td>Has constraint</td>\n      <td>Online</td>\n      <td>NaN</td>\n    </tr>\n    <tr>\n      <th>1</th>\n      <td>Stage 3</td>\n      <td>York</td>\n      <td>2020-07-24</td>\n      <td>2020-10-18</td>\n      <td>50</td>\n      <td>100</td>\n      <td>50</td>\n      <td>100</td>\n      <td>50</td>\n      <td>100</td>\n      <td>Yes</td>\n      <td>14 days</td>\n      <td>Open</td>\n      <td>Has constraint</td>\n      <td>Online</td>\n      <td>NaN</td>\n    </tr>\n    <tr>\n      <th>2</th>\n      <td>Stage 3</td>\n      <td>Peel</td>\n      <td>2020-07-31</td>\n      <td>2020-10-09</td>\n      <td>50</td>\n      <td>100</td>\n      <td>50</td>\n      <td>100</td>\n      <td>50</td>\n      <td>100</td>\n      <td>Yes</td>\n      <td>14 days</td>\n      <td>Open</td>\n      <td>Has constraint</td>\n      <td>Online</td>\n      <td>NaN</td>\n    </tr>\n    <tr>\n      <th>3</th>\n      <td>Stage 3</td>\n      <td>Toronto</td>\n      <td>2020-07-31</td>\n      <td>2020-10-09</td>\n      <td>50</td>\n      <td>100</td>\n      <td>50</td>\n      <td>100</td>\n      <td>50</td>\n      <td>100</td>\n      <td>Yes</td>\n      <td>14 days</td>\n      <td>Open</td>\n      <td>Has constraint</td>\n      <td>Online</td>\n      <td>NaN</td>\n    </tr>\n    <tr>\n      <th>4</th>\n      <td>Stage 3</td>\n      <td>Durham</td>\n      <td>2020-07-24</td>\n      <td>2020-11-06</td>\n      <td>50</td>\n      <td>100</td>\n      <td>50</td>\n      <td>100</td>\n      <td>50</td>\n      <td>100</td>\n      <td>Yes</td>\n      <td>14 days</td>\n      <td>Open</td>\n      <td>Has constraint</td>\n      <td>Online</td>\n      <td>NaN</td>\n    </tr>\n  </tbody>\n</table>\n</div>"
     },
     "execution_count": 3,
     "metadata": {},
     "output_type": "execute_result"
    }
   ],
   "source": [
    "measure.head()\n"
   ],
   "metadata": {
    "collapsed": false,
    "pycharm": {
     "name": "#%%\n"
    }
   }
  },
  {
   "cell_type": "code",
   "execution_count": 4,
   "outputs": [],
   "source": [
    "on_measure = measure[['Title', 'City', 'Start date', 'End date', 'Private indoor gathering limit',\n",
    "                      'Private outdoor gathering limit', 'Public indoor gathering limit', 'Public outdoor gathering limit',\n",
    "                      'Indoor religious services rites or ceremonies limit', 'Outdoor religious services rites or ceremonies limit',\n",
    "                      'mask requird', 'Self-isolating', 'Essential service', 'Entertainment service', 'School/work',\n",
    "                      'Restaurant patrons seated indoors']]"
   ],
   "metadata": {
    "collapsed": false,
    "pycharm": {
     "name": "#%%\n"
    }
   }
  },
  {
   "cell_type": "code",
   "execution_count": 5,
   "outputs": [],
   "source": [
    "on_measure.columns = ['Title', 'City', 'Start_date', 'End_date', 'Private_indoor_gathering_limit',\n",
    "                      'Private_outdoor_gathering_limit', 'Public_indoor_gathering_limit', 'Public_outdoor_gathering_limit',\n",
    "                      'Indoor_religious_services_rites_or_ceremonies_limit', 'Outdoor_religious_services_rites_or_ceremonies_limit',\n",
    "                      'mask_requird', 'Self_isolating', 'Essential_service', 'Entertainment_service', 'School_work',\n",
    "                      'Restaurant_patrons_seated_indoors']"
   ],
   "metadata": {
    "collapsed": false,
    "pycharm": {
     "name": "#%%\n"
    }
   }
  },
  {
   "cell_type": "code",
   "execution_count": 6,
   "outputs": [],
   "source": [
    "on_measure.insert(0, \"surrogate_key\",  np.arange(len(on_measure)))"
   ],
   "metadata": {
    "collapsed": false,
    "pycharm": {
     "name": "#%%\n"
    }
   }
  },
  {
   "cell_type": "code",
   "execution_count": 7,
   "outputs": [],
   "source": [
    "on_measure[\"Special_Measures_Key\"] = on_measure[\"City\"] + on_measure[\"Start_date\"]\n",
    "on_measure['Special_Measures_Key'] = on_measure['Special_Measures_Key'].str.replace('-', '')"
   ],
   "metadata": {
    "collapsed": false,
    "pycharm": {
     "name": "#%%\n"
    }
   }
  },
  {
   "cell_type": "code",
   "execution_count": 8,
   "outputs": [],
   "source": [
    "on_measure[\"Start_date\"] = pd.to_datetime(on_measure[\"Start_date\"] ).dt.strftime('%Y-%m-%d')\n",
    "on_measure[\"End_date\"] = pd.to_datetime(on_measure[\"End_date\"] ).dt.strftime('%Y-%m-%d')\n"
   ],
   "metadata": {
    "collapsed": false,
    "pycharm": {
     "name": "#%%\n"
    }
   }
  },
  {
   "cell_type": "code",
   "execution_count": 9,
   "outputs": [],
   "source": [
    "on_measure = on_measure.fillna(\"NaN\")"
   ],
   "metadata": {
    "collapsed": false,
    "pycharm": {
     "name": "#%%\n"
    }
   }
  },
  {
   "cell_type": "code",
   "execution_count": 10,
   "outputs": [],
   "source": [
    "measure_dimension = on_measure"
   ],
   "metadata": {
    "collapsed": false,
    "pycharm": {
     "name": "#%%\n"
    }
   }
  },
  {
   "cell_type": "code",
   "execution_count": 11,
   "outputs": [],
   "source": [
    "measure_dimension.to_csv(\"special_measures_dimension.csv\",index=False)"
   ],
   "metadata": {
    "collapsed": false,
    "pycharm": {
     "name": "#%%\n"
    }
   }
  },
  {
   "cell_type": "code",
   "execution_count": 12,
   "outputs": [
    {
     "data": {
      "text/plain": "   surrogate_key    Title     City  Start_date    End_date  \\\n0              0  Stage 3   Ottawa  2020-07-17  2020-10-09   \n1              1  Stage 3     York  2020-07-24  2020-10-18   \n2              2  Stage 3     Peel  2020-07-31  2020-10-09   \n3              3  Stage 3  Toronto  2020-07-31  2020-10-09   \n4              4  Stage 3   Durham  2020-07-24  2020-11-06   \n\n   Private_indoor_gathering_limit  Private_outdoor_gathering_limit  \\\n0                              50                              100   \n1                              50                              100   \n2                              50                              100   \n3                              50                              100   \n4                              50                              100   \n\n   Public_indoor_gathering_limit  Public_outdoor_gathering_limit  \\\n0                             50                             100   \n1                             50                             100   \n2                             50                             100   \n3                             50                             100   \n4                             50                             100   \n\n  Indoor_religious_services_rites_or_ceremonies_limit  \\\n0                                                 50    \n1                                                 50    \n2                                                 50    \n3                                                 50    \n4                                                 50    \n\n   Outdoor_religious_services_rites_or_ceremonies_limit mask_requird  \\\n0                                                100             Yes   \n1                                                100             Yes   \n2                                                100             Yes   \n3                                                100             Yes   \n4                                                100             Yes   \n\n  Self_isolating Essential_service Entertainment_service School_work  \\\n0        14 days              Open        Has constraint      Online   \n1        14 days              Open        Has constraint      Online   \n2        14 days              Open        Has constraint      Online   \n3        14 days              Open        Has constraint      Online   \n4        14 days              Open        Has constraint      Online   \n\n  Restaurant_patrons_seated_indoors Special_Measures_Key  \n0                               NaN       Ottawa20200717  \n1                               NaN         York20200724  \n2                               NaN         Peel20200731  \n3                               NaN      Toronto20200731  \n4                               NaN       Durham20200724  ",
      "text/html": "<div>\n<style scoped>\n    .dataframe tbody tr th:only-of-type {\n        vertical-align: middle;\n    }\n\n    .dataframe tbody tr th {\n        vertical-align: top;\n    }\n\n    .dataframe thead th {\n        text-align: right;\n    }\n</style>\n<table border=\"1\" class=\"dataframe\">\n  <thead>\n    <tr style=\"text-align: right;\">\n      <th></th>\n      <th>surrogate_key</th>\n      <th>Title</th>\n      <th>City</th>\n      <th>Start_date</th>\n      <th>End_date</th>\n      <th>Private_indoor_gathering_limit</th>\n      <th>Private_outdoor_gathering_limit</th>\n      <th>Public_indoor_gathering_limit</th>\n      <th>Public_outdoor_gathering_limit</th>\n      <th>Indoor_religious_services_rites_or_ceremonies_limit</th>\n      <th>Outdoor_religious_services_rites_or_ceremonies_limit</th>\n      <th>mask_requird</th>\n      <th>Self_isolating</th>\n      <th>Essential_service</th>\n      <th>Entertainment_service</th>\n      <th>School_work</th>\n      <th>Restaurant_patrons_seated_indoors</th>\n      <th>Special_Measures_Key</th>\n    </tr>\n  </thead>\n  <tbody>\n    <tr>\n      <th>0</th>\n      <td>0</td>\n      <td>Stage 3</td>\n      <td>Ottawa</td>\n      <td>2020-07-17</td>\n      <td>2020-10-09</td>\n      <td>50</td>\n      <td>100</td>\n      <td>50</td>\n      <td>100</td>\n      <td>50</td>\n      <td>100</td>\n      <td>Yes</td>\n      <td>14 days</td>\n      <td>Open</td>\n      <td>Has constraint</td>\n      <td>Online</td>\n      <td>NaN</td>\n      <td>Ottawa20200717</td>\n    </tr>\n    <tr>\n      <th>1</th>\n      <td>1</td>\n      <td>Stage 3</td>\n      <td>York</td>\n      <td>2020-07-24</td>\n      <td>2020-10-18</td>\n      <td>50</td>\n      <td>100</td>\n      <td>50</td>\n      <td>100</td>\n      <td>50</td>\n      <td>100</td>\n      <td>Yes</td>\n      <td>14 days</td>\n      <td>Open</td>\n      <td>Has constraint</td>\n      <td>Online</td>\n      <td>NaN</td>\n      <td>York20200724</td>\n    </tr>\n    <tr>\n      <th>2</th>\n      <td>2</td>\n      <td>Stage 3</td>\n      <td>Peel</td>\n      <td>2020-07-31</td>\n      <td>2020-10-09</td>\n      <td>50</td>\n      <td>100</td>\n      <td>50</td>\n      <td>100</td>\n      <td>50</td>\n      <td>100</td>\n      <td>Yes</td>\n      <td>14 days</td>\n      <td>Open</td>\n      <td>Has constraint</td>\n      <td>Online</td>\n      <td>NaN</td>\n      <td>Peel20200731</td>\n    </tr>\n    <tr>\n      <th>3</th>\n      <td>3</td>\n      <td>Stage 3</td>\n      <td>Toronto</td>\n      <td>2020-07-31</td>\n      <td>2020-10-09</td>\n      <td>50</td>\n      <td>100</td>\n      <td>50</td>\n      <td>100</td>\n      <td>50</td>\n      <td>100</td>\n      <td>Yes</td>\n      <td>14 days</td>\n      <td>Open</td>\n      <td>Has constraint</td>\n      <td>Online</td>\n      <td>NaN</td>\n      <td>Toronto20200731</td>\n    </tr>\n    <tr>\n      <th>4</th>\n      <td>4</td>\n      <td>Stage 3</td>\n      <td>Durham</td>\n      <td>2020-07-24</td>\n      <td>2020-11-06</td>\n      <td>50</td>\n      <td>100</td>\n      <td>50</td>\n      <td>100</td>\n      <td>50</td>\n      <td>100</td>\n      <td>Yes</td>\n      <td>14 days</td>\n      <td>Open</td>\n      <td>Has constraint</td>\n      <td>Online</td>\n      <td>NaN</td>\n      <td>Durham20200724</td>\n    </tr>\n  </tbody>\n</table>\n</div>"
     },
     "execution_count": 12,
     "metadata": {},
     "output_type": "execute_result"
    }
   ],
   "source": [
    "measure_dimension.head()\n"
   ],
   "metadata": {
    "collapsed": false,
    "pycharm": {
     "name": "#%%\n"
    }
   }
  }
 ],
 "metadata": {
  "kernelspec": {
   "display_name": "Python 3",
   "language": "python",
   "name": "python3"
  },
  "language_info": {
   "codemirror_mode": {
    "name": "ipython",
    "version": 2
   },
   "file_extension": ".py",
   "mimetype": "text/x-python",
   "name": "python",
   "nbconvert_exporter": "python",
   "pygments_lexer": "ipython2",
   "version": "2.7.6"
  }
 },
 "nbformat": 4,
 "nbformat_minor": 0
}