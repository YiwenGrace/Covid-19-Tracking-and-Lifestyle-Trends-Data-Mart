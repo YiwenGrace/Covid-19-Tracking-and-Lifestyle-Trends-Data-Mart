{
 "cells": [
  {
   "cell_type": "code",
   "execution_count": 27,
   "metadata": {
    "pycharm": {
     "name": "#%%\n"
    }
   },
   "outputs": [],
   "source": [
    "import pandas as pd\n",
    "import numpy as np\n",
    "\n",
    "from datetime import datetime, timedelta"
   ]
  },
  {
   "cell_type": "code",
   "execution_count": 28,
   "metadata": {
    "collapsed": true
   },
   "outputs": [],
   "source": [
    "climate = pd.read_csv(\"climate.csv\")"
   ]
  },
  {
   "cell_type": "code",
   "execution_count": 29,
   "metadata": {
    "pycharm": {
     "name": "#%%\n"
    }
   },
   "outputs": [
    {
     "data": {
      "text/plain": "   Longitude (x)  Latitude (y) Station Name Climate ID   Date/Time  Year  \\\n0         -75.72         45.38   OTTAWA CDA    6105976  2020-09-01  2020   \n1         -75.72         45.38   OTTAWA CDA    6105976  2020-09-02  2020   \n2         -75.72         45.38   OTTAWA CDA    6105976  2020-09-03  2020   \n3         -75.72         45.38   OTTAWA CDA    6105976  2020-09-04  2020   \n4         -75.72         45.38   OTTAWA CDA    6105976  2020-09-05  2020   \n\n   Month  Day Data Quality  Max Temp (°C)  ... Total Snow (cm)  \\\n0      9    1            †           25.0  ...             0.0   \n1      9    2            †           27.0  ...             0.0   \n2      9    3            †           24.5  ...             0.0   \n3      9    4            †           21.0  ...             0.0   \n4      9    5            †           21.0  ...             0.0   \n\n   Total Snow Flag Total Precip (mm)  Total Precip Flag Snow on Grnd (cm)  \\\n0              NaN               0.0                NaN               0.0   \n1              NaN               7.0                NaN               0.0   \n2              NaN               2.0                NaN               0.0   \n3              NaN               0.4                NaN               0.0   \n4              NaN               2.4                NaN               0.0   \n\n   Snow on Grnd Flag Dir of Max Gust (10s deg)  Dir of Max Gust Flag  \\\n0                NaN                       NaN                   NaN   \n1                NaN                       NaN                   NaN   \n2                NaN                       NaN                   NaN   \n3                NaN                       NaN                   NaN   \n4                NaN                       NaN                   NaN   \n\n  Spd of Max Gust (km/h)  Spd of Max Gust Flag  \n0                    NaN                   NaN  \n1                    NaN                   NaN  \n2                    NaN                   NaN  \n3                    NaN                   NaN  \n4                    NaN                   NaN  \n\n[5 rows x 31 columns]",
      "text/html": "<div>\n<style scoped>\n    .dataframe tbody tr th:only-of-type {\n        vertical-align: middle;\n    }\n\n    .dataframe tbody tr th {\n        vertical-align: top;\n    }\n\n    .dataframe thead th {\n        text-align: right;\n    }\n</style>\n<table border=\"1\" class=\"dataframe\">\n  <thead>\n    <tr style=\"text-align: right;\">\n      <th></th>\n      <th>Longitude (x)</th>\n      <th>Latitude (y)</th>\n      <th>Station Name</th>\n      <th>Climate ID</th>\n      <th>Date/Time</th>\n      <th>Year</th>\n      <th>Month</th>\n      <th>Day</th>\n      <th>Data Quality</th>\n      <th>Max Temp (°C)</th>\n      <th>...</th>\n      <th>Total Snow (cm)</th>\n      <th>Total Snow Flag</th>\n      <th>Total Precip (mm)</th>\n      <th>Total Precip Flag</th>\n      <th>Snow on Grnd (cm)</th>\n      <th>Snow on Grnd Flag</th>\n      <th>Dir of Max Gust (10s deg)</th>\n      <th>Dir of Max Gust Flag</th>\n      <th>Spd of Max Gust (km/h)</th>\n      <th>Spd of Max Gust Flag</th>\n    </tr>\n  </thead>\n  <tbody>\n    <tr>\n      <th>0</th>\n      <td>-75.72</td>\n      <td>45.38</td>\n      <td>OTTAWA CDA</td>\n      <td>6105976</td>\n      <td>2020-09-01</td>\n      <td>2020</td>\n      <td>9</td>\n      <td>1</td>\n      <td>†</td>\n      <td>25.0</td>\n      <td>...</td>\n      <td>0.0</td>\n      <td>NaN</td>\n      <td>0.0</td>\n      <td>NaN</td>\n      <td>0.0</td>\n      <td>NaN</td>\n      <td>NaN</td>\n      <td>NaN</td>\n      <td>NaN</td>\n      <td>NaN</td>\n    </tr>\n    <tr>\n      <th>1</th>\n      <td>-75.72</td>\n      <td>45.38</td>\n      <td>OTTAWA CDA</td>\n      <td>6105976</td>\n      <td>2020-09-02</td>\n      <td>2020</td>\n      <td>9</td>\n      <td>2</td>\n      <td>†</td>\n      <td>27.0</td>\n      <td>...</td>\n      <td>0.0</td>\n      <td>NaN</td>\n      <td>7.0</td>\n      <td>NaN</td>\n      <td>0.0</td>\n      <td>NaN</td>\n      <td>NaN</td>\n      <td>NaN</td>\n      <td>NaN</td>\n      <td>NaN</td>\n    </tr>\n    <tr>\n      <th>2</th>\n      <td>-75.72</td>\n      <td>45.38</td>\n      <td>OTTAWA CDA</td>\n      <td>6105976</td>\n      <td>2020-09-03</td>\n      <td>2020</td>\n      <td>9</td>\n      <td>3</td>\n      <td>†</td>\n      <td>24.5</td>\n      <td>...</td>\n      <td>0.0</td>\n      <td>NaN</td>\n      <td>2.0</td>\n      <td>NaN</td>\n      <td>0.0</td>\n      <td>NaN</td>\n      <td>NaN</td>\n      <td>NaN</td>\n      <td>NaN</td>\n      <td>NaN</td>\n    </tr>\n    <tr>\n      <th>3</th>\n      <td>-75.72</td>\n      <td>45.38</td>\n      <td>OTTAWA CDA</td>\n      <td>6105976</td>\n      <td>2020-09-04</td>\n      <td>2020</td>\n      <td>9</td>\n      <td>4</td>\n      <td>†</td>\n      <td>21.0</td>\n      <td>...</td>\n      <td>0.0</td>\n      <td>NaN</td>\n      <td>0.4</td>\n      <td>NaN</td>\n      <td>0.0</td>\n      <td>NaN</td>\n      <td>NaN</td>\n      <td>NaN</td>\n      <td>NaN</td>\n      <td>NaN</td>\n    </tr>\n    <tr>\n      <th>4</th>\n      <td>-75.72</td>\n      <td>45.38</td>\n      <td>OTTAWA CDA</td>\n      <td>6105976</td>\n      <td>2020-09-05</td>\n      <td>2020</td>\n      <td>9</td>\n      <td>5</td>\n      <td>†</td>\n      <td>21.0</td>\n      <td>...</td>\n      <td>0.0</td>\n      <td>NaN</td>\n      <td>2.4</td>\n      <td>NaN</td>\n      <td>0.0</td>\n      <td>NaN</td>\n      <td>NaN</td>\n      <td>NaN</td>\n      <td>NaN</td>\n      <td>NaN</td>\n    </tr>\n  </tbody>\n</table>\n<p>5 rows × 31 columns</p>\n</div>"
     },
     "execution_count": 29,
     "metadata": {},
     "output_type": "execute_result"
    }
   ],
   "source": [
    "climate.head()\n"
   ]
  },
  {
   "cell_type": "code",
   "execution_count": 30,
   "metadata": {
    "pycharm": {
     "name": "#%%\n"
    }
   },
   "outputs": [],
   "source": [
    "area_climate = climate[['Longitude (x)', 'Latitude (y)', 'Station Name', 'Climate ID', 'Date/Time',\n",
    "       'Max Temp (°C)', 'Min Temp (°C)',  'Mean Temp (°C)',\n",
    "       'Total Rain (mm)',\n",
    "       'Total Snow (cm)',  'Total Precip (mm)']]"
   ]
  },
  {
   "cell_type": "code",
   "execution_count": 31,
   "outputs": [
    {
     "name": "stderr",
     "output_type": "stream",
     "text": [
      "<ipython-input-31-0f91a4ba6595>:1: SettingWithCopyWarning: \n",
      "A value is trying to be set on a copy of a slice from a DataFrame.\n",
      "Try using .loc[row_indexer,col_indexer] = value instead\n",
      "\n",
      "See the caveats in the documentation: https://pandas.pydata.org/pandas-docs/stable/user_guide/indexing.html#returning-a-view-versus-a-copy\n",
      "  area_climate[\"Weather Key\"] = area_climate[\"Climate ID\"] + climate[\"Date/Time\"]\n"
     ]
    }
   ],
   "source": [
    "area_climate[\"Weather Key\"] = area_climate[\"Climate ID\"] + climate[\"Date/Time\"]"
   ],
   "metadata": {
    "collapsed": false,
    "pycharm": {
     "name": "#%%\n"
    }
   }
  },
  {
   "cell_type": "code",
   "execution_count": 32,
   "outputs": [],
   "source": [
    "area_climate.insert(0, \"surrogate_key\",  np.arange(len(area_climate)))"
   ],
   "metadata": {
    "collapsed": false,
    "pycharm": {
     "name": "#%%\n"
    }
   }
  },
  {
   "cell_type": "code",
   "execution_count": 33,
   "metadata": {
    "pycharm": {
     "name": "#%%\n"
    }
   },
   "outputs": [
    {
     "name": "stderr",
     "output_type": "stream",
     "text": [
      "<ipython-input-33-1048533a0983>:1: SettingWithCopyWarning: \n",
      "A value is trying to be set on a copy of a slice from a DataFrame.\n",
      "Try using .loc[row_indexer,col_indexer] = value instead\n",
      "\n",
      "See the caveats in the documentation: https://pandas.pydata.org/pandas-docs/stable/user_guide/indexing.html#returning-a-view-versus-a-copy\n",
      "  area_climate[\"Date/Time\"] = pd.to_datetime(area_climate[\"Date/Time\"] ).dt.strftime('%Y-%m-%d')\n"
     ]
    }
   ],
   "source": [
    "area_climate[\"Date/Time\"] = pd.to_datetime(area_climate[\"Date/Time\"] ).dt.strftime('%Y-%m-%d')\n"
   ]
  },
  {
   "cell_type": "code",
   "execution_count": 34,
   "metadata": {
    "pycharm": {
     "name": "#%%\n"
    }
   },
   "outputs": [],
   "source": [
    "area_climate = area_climate.fillna({'Total Rain (mm)': '0.0'})\n",
    "area_climate = area_climate.fillna({'Total Snow (cm)': '0.0'})\n",
    "area_climate = area_climate.fillna({'Total Precip (mm)': '0.0'})"
   ]
  },
  {
   "cell_type": "code",
   "execution_count": 35,
   "outputs": [],
   "source": [
    "area_climate['Weather Key'] = area_climate['Weather Key'].str.replace('-', '')\n",
    "area_climate.replace(\"OTTAWA CDA\", \"Ottawa\", inplace = True)\n",
    "area_climate.replace(\"TORONTO CITY CENTRE\", \"Toronto\", inplace = True)\n",
    "area_climate.replace(\"TORONTO NORTH YORK\", \"Newmarket\", inplace = True)\n",
    "area_climate.replace(\"OSHAWA\", \"Whitby\", inplace = True)\n",
    "area_climate.replace(\"TORONTO INTL A\", \"Mississauga\", inplace = True)\n",
    "area_climate.replace(\"OAKVILLE TWN\", \"Oakville\", inplace = True)"
   ],
   "metadata": {
    "collapsed": false,
    "pycharm": {
     "name": "#%%\n"
    }
   }
  },
  {
   "cell_type": "code",
   "execution_count": 36,
   "metadata": {
    "pycharm": {
     "name": "#%%\n"
    }
   },
   "outputs": [],
   "source": [
    "area_climate.columns = ['surrogate_key', 'Longitude', 'Latitude', 'Station_Name', 'Climate_ID', 'Date_Time',\n",
    "       'Max_Temp', 'Min_Temp',  'Mean_Temp',\n",
    "       'Total_Rain_mm',\n",
    "       'Total_Snow_cm',  'Total_Precip_mm', 'Weather_Key']"
   ]
  },
  {
   "cell_type": "code",
   "execution_count": 37,
   "outputs": [],
   "source": [
    "weather_dimension = area_climate"
   ],
   "metadata": {
    "collapsed": false,
    "pycharm": {
     "name": "#%%\n"
    }
   }
  },
  {
   "cell_type": "code",
   "execution_count": 38,
   "metadata": {
    "pycharm": {
     "name": "#%%\n"
    }
   },
   "outputs": [],
   "source": [
    "weather_dimension.to_csv(\"weather_dimension.csv\",index=False)"
   ]
  },
  {
   "cell_type": "code",
   "execution_count": 39,
   "metadata": {
    "pycharm": {
     "name": "#%%\n"
    }
   },
   "outputs": [
    {
     "data": {
      "text/plain": "   surrogate_key  Longitude  Latitude Station_Name Climate_ID   Date_Time  \\\n0              0     -75.72     45.38       Ottawa    6105976  2020-09-01   \n1              1     -75.72     45.38       Ottawa    6105976  2020-09-02   \n2              2     -75.72     45.38       Ottawa    6105976  2020-09-03   \n3              3     -75.72     45.38       Ottawa    6105976  2020-09-04   \n4              4     -75.72     45.38       Ottawa    6105976  2020-09-05   \n\n   Max_Temp  Min_Temp  Mean_Temp Total_Rain_mm Total_Snow_cm Total_Precip_mm  \\\n0      25.0      13.0       19.0           0.0           0.0             0.0   \n1      27.0      19.5       23.3           7.0           0.0             7.0   \n2      24.5      14.0       19.3           2.0           0.0             2.0   \n3      21.0      12.0       16.5           0.4           0.0             0.4   \n4      21.0       9.0       15.0           2.4           0.0             2.4   \n\n       Weather_Key  \n0  610597620200901  \n1  610597620200902  \n2  610597620200903  \n3  610597620200904  \n4  610597620200905  ",
      "text/html": "<div>\n<style scoped>\n    .dataframe tbody tr th:only-of-type {\n        vertical-align: middle;\n    }\n\n    .dataframe tbody tr th {\n        vertical-align: top;\n    }\n\n    .dataframe thead th {\n        text-align: right;\n    }\n</style>\n<table border=\"1\" class=\"dataframe\">\n  <thead>\n    <tr style=\"text-align: right;\">\n      <th></th>\n      <th>surrogate_key</th>\n      <th>Longitude</th>\n      <th>Latitude</th>\n      <th>Station_Name</th>\n      <th>Climate_ID</th>\n      <th>Date_Time</th>\n      <th>Max_Temp</th>\n      <th>Min_Temp</th>\n      <th>Mean_Temp</th>\n      <th>Total_Rain_mm</th>\n      <th>Total_Snow_cm</th>\n      <th>Total_Precip_mm</th>\n      <th>Weather_Key</th>\n    </tr>\n  </thead>\n  <tbody>\n    <tr>\n      <th>0</th>\n      <td>0</td>\n      <td>-75.72</td>\n      <td>45.38</td>\n      <td>Ottawa</td>\n      <td>6105976</td>\n      <td>2020-09-01</td>\n      <td>25.0</td>\n      <td>13.0</td>\n      <td>19.0</td>\n      <td>0.0</td>\n      <td>0.0</td>\n      <td>0.0</td>\n      <td>610597620200901</td>\n    </tr>\n    <tr>\n      <th>1</th>\n      <td>1</td>\n      <td>-75.72</td>\n      <td>45.38</td>\n      <td>Ottawa</td>\n      <td>6105976</td>\n      <td>2020-09-02</td>\n      <td>27.0</td>\n      <td>19.5</td>\n      <td>23.3</td>\n      <td>7.0</td>\n      <td>0.0</td>\n      <td>7.0</td>\n      <td>610597620200902</td>\n    </tr>\n    <tr>\n      <th>2</th>\n      <td>2</td>\n      <td>-75.72</td>\n      <td>45.38</td>\n      <td>Ottawa</td>\n      <td>6105976</td>\n      <td>2020-09-03</td>\n      <td>24.5</td>\n      <td>14.0</td>\n      <td>19.3</td>\n      <td>2.0</td>\n      <td>0.0</td>\n      <td>2.0</td>\n      <td>610597620200903</td>\n    </tr>\n    <tr>\n      <th>3</th>\n      <td>3</td>\n      <td>-75.72</td>\n      <td>45.38</td>\n      <td>Ottawa</td>\n      <td>6105976</td>\n      <td>2020-09-04</td>\n      <td>21.0</td>\n      <td>12.0</td>\n      <td>16.5</td>\n      <td>0.4</td>\n      <td>0.0</td>\n      <td>0.4</td>\n      <td>610597620200904</td>\n    </tr>\n    <tr>\n      <th>4</th>\n      <td>4</td>\n      <td>-75.72</td>\n      <td>45.38</td>\n      <td>Ottawa</td>\n      <td>6105976</td>\n      <td>2020-09-05</td>\n      <td>21.0</td>\n      <td>9.0</td>\n      <td>15.0</td>\n      <td>2.4</td>\n      <td>0.0</td>\n      <td>2.4</td>\n      <td>610597620200905</td>\n    </tr>\n  </tbody>\n</table>\n</div>"
     },
     "execution_count": 39,
     "metadata": {},
     "output_type": "execute_result"
    }
   ],
   "source": [
    "weather_dimension.head()"
   ]
  }
 ],
 "metadata": {
  "kernelspec": {
   "display_name": "Python 3",
   "language": "python",
   "name": "python3"
  },
  "language_info": {
   "codemirror_mode": {
    "name": "ipython",
    "version": 3
   },
   "file_extension": ".py",
   "mimetype": "text/x-python",
   "name": "python",
   "nbconvert_exporter": "python",
   "pygments_lexer": "ipython3",
   "version": "3.8.5"
  }
 },
 "nbformat": 4,
 "nbformat_minor": 1
}